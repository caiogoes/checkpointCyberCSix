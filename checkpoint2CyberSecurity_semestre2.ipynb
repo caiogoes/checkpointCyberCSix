{
  "cells": [
    {
      "cell_type": "code",
      "execution_count": null,
      "metadata": {
        "id": "IrGWaByQLn1k"
      },
      "outputs": [],
      "source": [
        "!pip install -q pyngrok\n",
        "!pip install -q streamlit\n",
        "!pip install -q streamlit_ace\n",
        "!pip install SpeechRecognition\n",
        "!pip install PyAudio"
      ]
    },
    {
      "cell_type": "code",
      "source": [
        "!git clone https://github.com/stefanrmmr/streamlit_audio_recorder.git"
      ],
      "metadata": {
        "id": "gmiDBUiXIMJA"
      },
      "execution_count": null,
      "outputs": []
    },
    {
      "cell_type": "code",
      "execution_count": null,
      "metadata": {
        "id": "JBGTxesld1d1"
      },
      "outputs": [],
      "source": [
        "!streamlit run app.py &>/dev/null&"
      ]
    },
    {
      "cell_type": "code",
      "execution_count": null,
      "metadata": {
        "colab": {
          "base_uri": "https://localhost:8080/"
        },
        "id": "b8E65fDmMB1I",
        "outputId": "e793e346-d330-40f1-c96b-7b6412787e85"
      },
      "outputs": [
        {
          "output_type": "stream",
          "name": "stdout",
          "text": [
            "Overwriting app.py\n"
          ]
        }
      ],
      "source": [
        "%%writefile app.py\n",
        "\n",
        "import re\n",
        "import os\n",
        "import streamlit as st\n",
        "from pyngrok import ngrok\n",
        "import numpy as np\n",
        "import datetime\n",
        "import streamlit.components.v1 as components\n",
        "from io import BytesIO\n",
        "import speech_recognition as sr\n",
        "import soundfile as sf\n",
        "import librosa\n",
        "\n",
        "parent_dir = os.path.dirname(os.path.abspath(__file__))\n",
        "build_dir = os.path.join(parent_dir, \"streamlit_audio_recorder/st_audiorec/frontend/build\")\n",
        "st_audiorec = components.declare_component(\"st_audiorec\", path=build_dir)\n",
        "\n",
        "#Essa função é para criação da webpage\n",
        "def main():\n",
        "\n",
        "  #Elementos da webpage\n",
        "  html_temp = \"\"\"\n",
        "  <div>\n",
        "    <div style =\"width: 34%; margin-right: 1%; height: 100px; display: inline-block; float: left; background-image: url(https://upload.wikimedia.org/wikipedia/commons/thumb/7/77/Logo_C6_Bank.svg/2560px-Logo_C6_Bank.svg.png); background-repeat: no-repeat; background-position-x: center; background-position-y: center; background-size: 90%;\">\n",
        "    </div>\n",
        "    <div style =\"background: #000; width: 65%; height: 100px; display: inline-block; padding: 23px;\">\n",
        "      <h3 style =\"color: white; text-align: center;\">Área PIX<h3>\n",
        "    </div>\n",
        "  </div>\n",
        "  \"\"\"\n",
        "\n",
        "  def foraHorario(hora):\n",
        "    hora = int(hora)\n",
        "\n",
        "    if hora == 0:\n",
        "      hora = 21\n",
        "    elif hora == 1:\n",
        "      hora = 22\n",
        "    elif hora == 2:\n",
        "      hora = 23\n",
        "    elif hora == 3:\n",
        "      hora = 0\n",
        "    else:\n",
        "      hora = hora - 3\n",
        "\n",
        "    if 20 <= hora or hora < 6:\n",
        "      return True\n",
        "    else:\n",
        "      return False\n",
        "\n",
        "  def validarAudio():\n",
        "    audio_source = '/content/audio.wav'\n",
        "    data, sample_rate = librosa.load(audio_source, sr = None)\n",
        "    sf.write(audio_source, data, sample_rate)\n",
        "    audio = sr.AudioFile(audio_source)\n",
        "    with audio as source:\n",
        "      sr.Recognizer().adjust_for_ambient_noise(source, duration=0.1)\n",
        "      texto = sr.Recognizer().record(source)\n",
        "\n",
        "    retorno = False\n",
        "    try:\n",
        "      frase = sr.Recognizer().recognize_google(texto, language='pt-BR')\n",
        "      if frase == 'eu fui à praia ontem':\n",
        "        retorno = True\n",
        "    except sr.UnknownValueError:\n",
        "      retorno = 'err'\n",
        "\n",
        "    return retorno\n",
        "\n",
        "    if sr.Recognizer().recognize_google(texto, language='pt-BR') == 'eu fui à praia ontem':\n",
        "      return True\n",
        "    else:\n",
        "      return false\n",
        "\n",
        "  # Função do stramlit que faz o display da webpage\n",
        "  st.markdown(html_temp, unsafe_allow_html = True) \n",
        "\n",
        "  # As linhas abaixo criam as caixas na qual o usuário vai entrar com dados da pessoa que quer o empréstimo para fazer a Predição\n",
        "  col1, col2 = st.columns(2)\n",
        "  with col1:\n",
        "    chave = st.text_input('Chave PIX*')\n",
        "\n",
        "  with col2:\n",
        "    valor = st.text_input('Valor*')\n",
        "\n",
        "  st.text('Envie um audio com a frase \"Eu fui à praia ontem\".')\n",
        "  audio = st_audiorec()\n",
        "\n",
        "  if isinstance(audio, dict):  # retrieve audio data\n",
        "    with st.spinner('retrieving audio-recording...'):\n",
        "      ind, audio = zip(*audio['arr'].items())\n",
        "      ind = np.array(ind, dtype=int)  # convert to np array\n",
        "      audio = np.array(audio)             # convert to np array\n",
        "      sorted_ints = audio[ind]\n",
        "      stream = BytesIO(b\"\".join([int(v).to_bytes(1, \"big\") for v in sorted_ints]))\n",
        "      wav_bytes = stream.read()\n",
        "\n",
        "      with open('audio.wav', 'wb') as f:\n",
        "        f.write(wav_bytes)\n",
        "\n",
        "  def validation(chave, valor):\n",
        "    if st.button(\"Transferir\"):\n",
        "      if valor.isnumeric() and int(valor) > 0:\n",
        "        if foraHorario(datetime.datetime.now().strftime(\"%H\")) and int(valor) > 3000:\n",
        "          if validarAudio():\n",
        "            st.success('Transação autorizada')  \n",
        "          else:\n",
        "            st.error('Transação não autorizada')\n",
        "        else:\n",
        "          st.success('Transação autorizada')\n",
        "      else:\n",
        "        st.warning('Preencha um valor válido')\n",
        "\n",
        "  validation(chave, valor)\n",
        "\n",
        "if __name__=='__main__': \n",
        "  main()"
      ]
    },
    {
      "cell_type": "code",
      "execution_count": null,
      "metadata": {
        "id": "SnvKDMyCMEAJ"
      },
      "outputs": [],
      "source": [
        "!streamlit run app.py & npx localtunnel --port 8501"
      ]
    }
  ],
  "metadata": {
    "accelerator": "GPU",
    "colab": {
      "collapsed_sections": [],
      "provenance": []
    },
    "gpuClass": "standard",
    "kernelspec": {
      "display_name": "Python 3",
      "name": "python3"
    },
    "language_info": {
      "name": "python"
    }
  },
  "nbformat": 4,
  "nbformat_minor": 0
}